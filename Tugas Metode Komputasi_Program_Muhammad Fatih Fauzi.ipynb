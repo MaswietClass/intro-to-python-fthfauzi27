{
 "cells": [
  {
   "cell_type": "code",
   "execution_count": null,
   "metadata": {
    "collapsed": true
   },
   "outputs": [],
   "source": [
    "print('Kita akan mengecek apakah angka Anda merupakan angka ganjil atau genap. Silahkan masukkan angka pada rentang -1 juta hingga 1 juta')\n",
    "x=input(\"Masukkan angka Anda:\")\n",
    "if x in range (-1000000,1000000,2):\n",
    "    print\"Angka Anda merupakan angka genap\"\n",
    "else:\n",
    "    print\"Angka Anda merupakan angka ganjil\""
   ]
  }
 ],
 "metadata": {
  "kernelspec": {
   "display_name": "Python 2",
   "language": "python",
   "name": "python2"
  },
  "language_info": {
   "codemirror_mode": {
    "name": "ipython",
    "version": 2
   },
   "file_extension": ".py",
   "mimetype": "text/x-python",
   "name": "python",
   "nbconvert_exporter": "python",
   "pygments_lexer": "ipython2",
   "version": "2.7.11"
  }
 },
 "nbformat": 4,
 "nbformat_minor": 0
}
